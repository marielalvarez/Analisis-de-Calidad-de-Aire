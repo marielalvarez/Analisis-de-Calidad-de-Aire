{
 "cells": [
  {
   "cell_type": "markdown",
   "id": "95bdbe9a",
   "metadata": {},
   "source": [
    "### Este es el markdown que genera los datos de la Estación Centro (2021-2025) desde los datos crudos"
   ]
  },
  {
   "cell_type": "code",
   "execution_count": null,
   "id": "96963834",
   "metadata": {},
   "outputs": [],
   "source": [
    "from pathlib import Path\n",
    "NB_DIR = Path.cwd() \n",
    "print(NB_DIR)\n",
    "\n",
    "DATA_CRUDOS = NB_DIR.parents[1] / \"datos/datos_crudos\"   \n",
    "\n",
    "file_2021 = DATA_CRUDOS / \"DATOS HISTÓRICOS 2020_2021_TODAS ESTACIONES.xlsx\"\n",
    "file_2223 = DATA_CRUDOS /\"DATOS HISTÓRICOS 2022_2023_TODAS ESTACIONES.xlsx\"\n",
    "file_2324 = DATA_CRUDOS / \"DATOS HISTÓRICOS 2023_2024_TODAS ESTACIONES_ITESM.xlsx\"\n",
    "file_2025 = DATA_CRUDOS / \"BD 2025.xlsx\""
   ]
  },
  {
   "cell_type": "code",
   "execution_count": null,
   "id": "fbe2e04b",
   "metadata": {},
   "outputs": [],
   "source": [
    "from pathlib import Path\n",
    "import sys\n",
    "print(Path.cwd())                               \n",
    "print((Path.cwd().parent / \"unir_datos.py\").exists())  \n",
    "from pathlib import Path\n",
    "sys.path.insert(0, str(Path.cwd().parent))\n"
   ]
  },
  {
   "cell_type": "code",
   "execution_count": null,
   "id": "64b6b98b",
   "metadata": {},
   "outputs": [],
   "source": [
    "from unir_datos import *\n",
    "import pandas as pd\n",
    "STATION = \"CENTRO\"\n",
    "\n",
    "df_2021_sheet = pd.read_excel(file_2021, sheet_name=STATION, header=0)\n",
    "df_2022_sheet = pd.read_excel(file_2223, sheet_name=STATION, header=0)\n",
    "raw_2023_2024 = pd.read_excel(file_2324, header=[0, 1, 2])\n",
    "df_2025_sheet = pd.read_excel(file_2025 ,sheet_name=\"CE\", header=0)\n",
    "\n",
    "df21, df22, df23, df24, df25 = station_to_5dfs(\n",
    "    df_2021_sheet,    \n",
    "    df_2022_sheet,      \n",
    "    raw_2023_2024,      \n",
    "    df_2025_sheet,      \n",
    "    station=STATION\n",
    ")\n"
   ]
  },
  {
   "cell_type": "code",
   "execution_count": null,
   "id": "c579fcfc",
   "metadata": {},
   "outputs": [],
   "source": [
    "with pd.ExcelWriter(\"../../datos/datos_por_estacion/CENTRO.xlsx\", engine=\"openpyxl\") as writer:\n",
    "    df21.to_excel(writer, sheet_name=\"2021\", index=False)\n",
    "    df22.to_excel(writer, sheet_name=\"2022\", index=False)\n",
    "    df23.to_excel(writer, sheet_name=\"2023\", index=False)\n",
    "    df24.to_excel(writer, sheet_name=\"2024\", index=False)\n",
    "    df25.to_excel(writer, sheet_name=\"2025\", index=False)"
   ]
  }
 ],
 "metadata": {
  "kernelspec": {
   "display_name": "hate_speech",
   "language": "python",
   "name": "python3"
  },
  "language_info": {
   "name": "python",
   "version": "3.11.13"
  }
 },
 "nbformat": 4,
 "nbformat_minor": 5
}
