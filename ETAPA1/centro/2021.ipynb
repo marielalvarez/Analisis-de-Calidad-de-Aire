{
 "cells": [
  {
   "cell_type": "code",
   "execution_count": null,
   "id": "15530f7c",
   "metadata": {},
   "outputs": [],
   "source": [
    "import pandas as pd\n",
    "PATH = '../../datos/datos_por_estacion/CENTRO.xlsx'"
   ]
  }
 ],
 "metadata": {
  "language_info": {
   "name": "python"
  }
 },
 "nbformat": 4,
 "nbformat_minor": 5
}
