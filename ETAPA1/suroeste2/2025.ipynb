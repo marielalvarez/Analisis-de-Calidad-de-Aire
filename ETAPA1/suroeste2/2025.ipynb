{
 "cells": [
  {
   "cell_type": "code",
   "execution_count": null,
   "id": "fc084b32",
   "metadata": {},
   "outputs": [],
   "source": [
    "import pandas as pd\n",
    "PATH = '../../datos/datos_por_estacion/SUROESTE2.xlsx'"
   ]
  }
 ],
 "metadata": {
  "language_info": {
   "name": "python"
  }
 },
 "nbformat": 4,
 "nbformat_minor": 5
}
